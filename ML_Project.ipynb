{
 "cells": [
  {
   "cell_type": "markdown",
   "id": "5848f5ce",
   "metadata": {},
   "source": [
    "# CS-770: Machine Learning (Final Project)\n",
    "\n",
    "Name: Padmanjali Chintakrindi"
   ]
  },
  {
   "cell_type": "markdown",
   "id": "3e1dd132",
   "metadata": {},
   "source": [
    "#### 1. Train a deep learning classifier for any binary image classification task of your choice. The deep-learning classifier should consist of a set of convolutional and fully connected layers followed by the final output layer for image classification. Motivate the choice of the model. Use appropriate metrics to evaluate the model on the test set. Compare the performance of your deep learning model with three traditional machine learning models of your choice evaluated on the same test set."
   ]
  },
  {
   "cell_type": "markdown",
   "id": "27b1dd69",
   "metadata": {},
   "source": [
    "#### a) Code"
   ]
  },
  {
   "cell_type": "markdown",
   "id": "d43a23b6",
   "metadata": {},
   "source": [
    "Introduction: To train a deep learning classifer I'm considering the brain tumor dataset from kaggle. It has two categories of data one of which contains images of brain scan which has brain tumor while the other category contains images with no brain tumor. The link to the dataset is: https://www.kaggle.com/datasets/navoneel/brain-mri-images-for-brain-tumor-detection\n",
    "This dataset has 155 images with brain tumor and 98 images with no tumor. I'm using 80 images from the first set and 50 images from the second set to train the classifier model."
   ]
  },
  {
   "cell_type": "markdown",
   "id": "a213dc4d",
   "metadata": {},
   "source": [
    "#### CNN deep learning classifier for binary image classification"
   ]
  },
  {
   "cell_type": "code",
   "execution_count": 91,
   "id": "c7089f5e",
   "metadata": {},
   "outputs": [],
   "source": [
    "#step1: import libraries necessary to run the classifier\n",
    "\n",
    "import os as library #we use os library to work with the file directories and file paths\n",
    "import numpy as npy_arrays #we use numpy arrays to store preprocessed data\n",
    "from PIL import Image as P_Image #we use PIL library to preprocess the images\n",
    "from keras import models as K_Model #we use models from keras to build a neural network classifier\n",
    "from keras import layers as K_Layer \n",
    "#we use layers from keras to add convolutional and fully connected layers to the model\n",
    "from keras import optimizers as optims #we use optimizer from keras to feed the CNN classifier\n",
    "from sklearn import metrics as sk_metrics #we use metrics to calculate the accuracy and precision score\n",
    "from sklearn import linear_model as lin_mdl #import linear model\n",
    "from sklearn.pipeline import Pipeline as Pipe_Ln #we use pipeline to initialize SVM\n",
    "from sklearn import preprocessing as Pre_Process #we use preprocessing to assign a scaler in SVM\n",
    "from sklearn import svm as SVM #import SVM to clasify images\n",
    "import matplotlib.pyplot #import matplotlib to plot accuracies"
   ]
  },
  {
   "cell_type": "code",
   "execution_count": 13,
   "id": "f1fe71b9",
   "metadata": {},
   "outputs": [],
   "source": [
    "#step2: create variables to store the image arrays and image dimensions\n",
    "\n",
    "img_ht = 256 #consider image height to be 225 pixels\n",
    "img_wt = 256 #consider image width to be 225 pixels\n",
    "tumor_true_path = \"brain_tumor_data/brain_tumor_true\" #path to the images with brain tumor\n",
    "tumor_false_path = \"brain_tumor_data/brain_tumor_false\" #path to the images without brain tumor\n",
    "tumor_train_image_array = [] #initialize array to store train dataset\n",
    "tumor_test_image_array = [] #initialize array to store test dataset\n",
    "tumor_train_lbl_array = [] #initialize array to store binary labels for train array\n",
    "tumor_test_lbl_array = [] #initialize array to store binary labels for test array\n",
    "epoch_count = 50 #number of epoches to use while training the model"
   ]
  },
  {
   "cell_type": "code",
   "execution_count": 14,
   "id": "b974d2f2",
   "metadata": {},
   "outputs": [],
   "source": [
    "#step3: loop through the folder and append the images to the arrays after preprocessing\n",
    "\n",
    "for tumor_img in library.listdir(tumor_true_path): #loop the folder that has images with tumor\n",
    "    path = tumor_true_path+\"/\"+tumor_img #path to the image\n",
    "    tumor_img = P_Image.open(path).convert('RGB') #convert the image to RGB using PIL library\n",
    "    tumor_img = tumor_img.resize((img_wt,img_ht)) #resize image using height and width variables\n",
    "    tumor_img = npy_arrays.array(tumor_img) / 255.0  #convert to numpy array and normalize the pixel values\n",
    "    if(len(tumor_train_image_array)<80): #insert only 80 images to train array\n",
    "        tumor_train_image_array.append(tumor_img) #append image to train array if it has less than 80 images\n",
    "        tumor_train_lbl_array.append(1) #append a binary label of 1 for images with tumor\n",
    "    else:\n",
    "        tumor_test_image_array.append(tumor_img) #append image to test array if train array has 80 images\n",
    "        tumor_test_lbl_array.append(1) #append a binary label of 1 form images with tumor\n",
    "\n",
    "# repeat the process for images with no tumor\n",
    "\n",
    "for no_tumor_img in library.listdir(tumor_false_path): #loop the folder that has images without tumor\n",
    "    path = tumor_false_path+\"/\"+no_tumor_img #path to the image\n",
    "    no_tumor_img = P_Image.open(path).convert('RGB') #convert the image to RGB using PIL library\n",
    "    no_tumor_img = no_tumor_img.resize((img_wt,img_ht)) #resize image using height and width variables\n",
    "    no_tumor_img = npy_arrays.array(no_tumor_img) / 255.0  #convert to numpy array and normalize the pixel values\n",
    "    if(len(tumor_train_image_array)<130): \n",
    "        #insert only 50 images to train array from this folder so total length is 130\n",
    "        tumor_train_image_array.append(no_tumor_img) #append image to train array if it has less than 130 images\n",
    "        tumor_train_lbl_array.append(0) #append a binary label of 0 for images without tumor\n",
    "    else:\n",
    "        tumor_test_image_array.append(no_tumor_img) #append image to test array if train array has 130 images\n",
    "        tumor_test_lbl_array.append(0) #append a binary label of 0 for images with tumor"
   ]
  },
  {
   "cell_type": "code",
   "execution_count": 15,
   "id": "b80c314b",
   "metadata": {},
   "outputs": [
    {
     "data": {
      "text/plain": [
       "130"
      ]
     },
     "execution_count": 15,
     "metadata": {},
     "output_type": "execute_result"
    }
   ],
   "source": [
    "tumor_train_image_array = npy_arrays.array(tumor_train_image_array) #convert the array to numpy array\n",
    "len(tumor_train_image_array) #length of train images array"
   ]
  },
  {
   "cell_type": "code",
   "execution_count": 16,
   "id": "a70d3300",
   "metadata": {},
   "outputs": [
    {
     "data": {
      "text/plain": [
       "130"
      ]
     },
     "execution_count": 16,
     "metadata": {},
     "output_type": "execute_result"
    }
   ],
   "source": [
    "tumor_train_lbl_array = npy_arrays.asarray(tumor_train_lbl_array).astype('float32').reshape((-1,1)) \n",
    "#convert the array to numpy array\n",
    "len(tumor_train_lbl_array) #length of train labels array"
   ]
  },
  {
   "cell_type": "code",
   "execution_count": 17,
   "id": "000ca937",
   "metadata": {},
   "outputs": [
    {
     "data": {
      "text/plain": [
       "123"
      ]
     },
     "execution_count": 17,
     "metadata": {},
     "output_type": "execute_result"
    }
   ],
   "source": [
    "tumor_test_image_array = npy_arrays.array(tumor_test_image_array) #convert the array to numpy array\n",
    "len(tumor_test_image_array) #length of test images array"
   ]
  },
  {
   "cell_type": "code",
   "execution_count": 18,
   "id": "c234b5cc",
   "metadata": {},
   "outputs": [
    {
     "data": {
      "text/plain": [
       "123"
      ]
     },
     "execution_count": 18,
     "metadata": {},
     "output_type": "execute_result"
    }
   ],
   "source": [
    "tumor_test_lbl_array = npy_arrays.asarray(tumor_test_lbl_array).astype('float32').reshape((-1,1))  \n",
    "#convert the array to numpy array\n",
    "len(tumor_test_lbl_array) #length of test labels array"
   ]
  },
  {
   "cell_type": "code",
   "execution_count": 19,
   "id": "f4d8eb7b",
   "metadata": {},
   "outputs": [],
   "source": [
    "#step4: create a neural network classifier model and add layers to it\n",
    "\n",
    "CNN_Classifier = K_Model.Sequential([ \n",
    "    #we use sequential model to connect all the layers in the model in a sequential order\n",
    "    K_Layer.Conv2D(filters=64, kernel_size=3, activation=\"relu\", input_shape=(img_wt, img_ht, 3)), \n",
    "    #the above layer is the fundamental building bloack and is used to extract the features from the images\n",
    "    K_Layer.Conv2D(32, 3, activation=\"relu\"),\n",
    "    #the above layer uses 32 filters to extract the features using relu activation function\n",
    "    K_Layer.MaxPool2D(pool_size=2, padding=\"valid\"),\n",
    "    #the above layer is used to reduce the spatial size of the output feature maps\n",
    "    K_Layer.MaxPool2D(2),#this layer is used to down sample the features generated by previous layers\n",
    "    K_Layer.Flatten(),#this layer transforms the output from pervious layers to 1D feature\n",
    "    K_Layer.Dense(256, activation=\"relu\"), #this is a fully connected layer with 256 neurons\n",
    "    K_Layer.Dense(128, activation=\"relu\"), #this is the second fully connected dense layer with 128 neurons\n",
    "    K_Layer.Dense(1, activation=\"sigmoid\")  \n",
    "    #the final Dense layer with 1 neuron and sigmoid activation function is used for binary image classification \n",
    "    #tasks as it allows the model to output a probability of the inputs.\n",
    "])"
   ]
  },
  {
   "cell_type": "code",
   "execution_count": 20,
   "id": "a7616897",
   "metadata": {},
   "outputs": [
    {
     "name": "stdout",
     "output_type": "stream",
     "text": [
      "Model: \"sequential_1\"\n",
      "_________________________________________________________________\n",
      " Layer (type)                Output Shape              Param #   \n",
      "=================================================================\n",
      " conv2d_3 (Conv2D)           (None, 254, 254, 64)      1792      \n",
      "                                                                 \n",
      " conv2d_4 (Conv2D)           (None, 252, 252, 32)      18464     \n",
      "                                                                 \n",
      " max_pooling2d_2 (MaxPooling  (None, 126, 126, 32)     0         \n",
      " 2D)                                                             \n",
      "                                                                 \n",
      " conv2d_5 (Conv2D)           (None, 124, 124, 32)      9248      \n",
      "                                                                 \n",
      " max_pooling2d_3 (MaxPooling  (None, 62, 62, 32)       0         \n",
      " 2D)                                                             \n",
      "                                                                 \n",
      " flatten_1 (Flatten)         (None, 123008)            0         \n",
      "                                                                 \n",
      " dense_3 (Dense)             (None, 256)               31490304  \n",
      "                                                                 \n",
      " dense_4 (Dense)             (None, 128)               32896     \n",
      "                                                                 \n",
      " dense_5 (Dense)             (None, 1)                 129       \n",
      "                                                                 \n",
      "=================================================================\n",
      "Total params: 31,552,833\n",
      "Trainable params: 31,552,833\n",
      "Non-trainable params: 0\n",
      "_________________________________________________________________\n"
     ]
    }
   ],
   "source": [
    "CNN_Classifier.summary() #this gives the summary of layers added to the classifier"
   ]
  },
  {
   "cell_type": "code",
   "execution_count": 21,
   "id": "ba75b66a",
   "metadata": {},
   "outputs": [],
   "source": [
    "#step5: compile the classifier\n",
    "\n",
    "loss_function = \"binary_crossentropy\" \n",
    "#this is a loss function used in binary image classification as this functions finds the probability\n",
    "preferred_optimizer = optims.Adam()\n",
    "#Adaptive Moment Estimation (ADAM) adjusts the learning rate for each parameter \n",
    "#during training which can result in better performance \n",
    "CNN_Classifier.compile(preferred_optimizer, loss_function, [\"accuracy\"]) \n",
    "#compile the classifier using the loss function and optimizer"
   ]
  },
  {
   "cell_type": "code",
   "execution_count": 22,
   "id": "6ce819f6",
   "metadata": {},
   "outputs": [
    {
     "name": "stdout",
     "output_type": "stream",
     "text": [
      "Epoch 1/50\n",
      "5/5 [==============================] - 36s 7s/step - loss: 1.2824 - accuracy: 0.6538 - val_loss: 0.5847 - val_accuracy: 0.6341\n",
      "Epoch 2/50\n",
      "5/5 [==============================] - 36s 7s/step - loss: 0.5945 - accuracy: 0.7231 - val_loss: 0.5633 - val_accuracy: 0.7317\n",
      "Epoch 3/50\n",
      "5/5 [==============================] - 35s 7s/step - loss: 0.4770 - accuracy: 0.7692 - val_loss: 1.0410 - val_accuracy: 0.4634\n",
      "Epoch 4/50\n",
      "5/5 [==============================] - 36s 7s/step - loss: 0.6988 - accuracy: 0.6692 - val_loss: 0.5583 - val_accuracy: 0.7480\n",
      "Epoch 5/50\n",
      "5/5 [==============================] - 35s 7s/step - loss: 0.4598 - accuracy: 0.8154 - val_loss: 0.5221 - val_accuracy: 0.8049\n",
      "Epoch 6/50\n",
      "5/5 [==============================] - 35s 7s/step - loss: 0.3839 - accuracy: 0.8462 - val_loss: 0.5468 - val_accuracy: 0.7724\n",
      "Epoch 7/50\n",
      "5/5 [==============================] - 40s 8s/step - loss: 0.3606 - accuracy: 0.8154 - val_loss: 0.6436 - val_accuracy: 0.7967\n",
      "Epoch 8/50\n",
      "5/5 [==============================] - 39s 8s/step - loss: 0.3114 - accuracy: 0.8769 - val_loss: 0.5200 - val_accuracy: 0.7480\n",
      "Epoch 9/50\n",
      "5/5 [==============================] - 39s 8s/step - loss: 0.1707 - accuracy: 0.9769 - val_loss: 0.5940 - val_accuracy: 0.8130\n",
      "Epoch 10/50\n",
      "5/5 [==============================] - 41s 8s/step - loss: 0.0702 - accuracy: 0.9769 - val_loss: 0.9725 - val_accuracy: 0.8049\n",
      "Epoch 11/50\n",
      "5/5 [==============================] - 38s 8s/step - loss: 0.0157 - accuracy: 1.0000 - val_loss: 1.9089 - val_accuracy: 0.6748\n",
      "Epoch 12/50\n",
      "5/5 [==============================] - 40s 8s/step - loss: 0.0747 - accuracy: 0.9615 - val_loss: 1.6718 - val_accuracy: 0.7073\n",
      "Epoch 13/50\n",
      "5/5 [==============================] - 40s 8s/step - loss: 0.0154 - accuracy: 1.0000 - val_loss: 1.3518 - val_accuracy: 0.8049\n",
      "Epoch 14/50\n",
      "5/5 [==============================] - 38s 7s/step - loss: 0.0110 - accuracy: 1.0000 - val_loss: 1.2629 - val_accuracy: 0.8130\n",
      "Epoch 15/50\n",
      "5/5 [==============================] - 37s 7s/step - loss: 0.0034 - accuracy: 1.0000 - val_loss: 1.2391 - val_accuracy: 0.7480\n",
      "Epoch 16/50\n",
      "5/5 [==============================] - 41s 8s/step - loss: 0.0054 - accuracy: 1.0000 - val_loss: 1.4763 - val_accuracy: 0.7073\n",
      "Epoch 17/50\n",
      "5/5 [==============================] - 39s 8s/step - loss: 0.0048 - accuracy: 1.0000 - val_loss: 1.4195 - val_accuracy: 0.7805\n",
      "Epoch 18/50\n",
      "5/5 [==============================] - 39s 8s/step - loss: 6.1697e-04 - accuracy: 1.0000 - val_loss: 1.5132 - val_accuracy: 0.8130\n",
      "Epoch 19/50\n",
      "5/5 [==============================] - 36s 7s/step - loss: 9.1842e-04 - accuracy: 1.0000 - val_loss: 1.5880 - val_accuracy: 0.8130\n",
      "Epoch 20/50\n",
      "5/5 [==============================] - 41s 8s/step - loss: 9.8334e-04 - accuracy: 1.0000 - val_loss: 1.6231 - val_accuracy: 0.8130\n",
      "Epoch 21/50\n",
      "5/5 [==============================] - 38s 8s/step - loss: 4.6137e-04 - accuracy: 1.0000 - val_loss: 1.6433 - val_accuracy: 0.8130\n",
      "Epoch 22/50\n",
      "5/5 [==============================] - 39s 8s/step - loss: 2.2351e-04 - accuracy: 1.0000 - val_loss: 1.6754 - val_accuracy: 0.7886\n",
      "Epoch 23/50\n",
      "5/5 [==============================] - 39s 8s/step - loss: 9.3021e-05 - accuracy: 1.0000 - val_loss: 1.7157 - val_accuracy: 0.7724\n",
      "Epoch 24/50\n",
      "5/5 [==============================] - 38s 8s/step - loss: 1.0159e-04 - accuracy: 1.0000 - val_loss: 1.7495 - val_accuracy: 0.7642\n",
      "Epoch 25/50\n",
      "5/5 [==============================] - 39s 8s/step - loss: 1.1327e-04 - accuracy: 1.0000 - val_loss: 1.7702 - val_accuracy: 0.7398\n",
      "Epoch 26/50\n",
      "5/5 [==============================] - 37s 7s/step - loss: 1.0943e-04 - accuracy: 1.0000 - val_loss: 1.7785 - val_accuracy: 0.7398\n",
      "Epoch 27/50\n",
      "5/5 [==============================] - 40s 8s/step - loss: 9.6464e-05 - accuracy: 1.0000 - val_loss: 1.7794 - val_accuracy: 0.7642\n",
      "Epoch 28/50\n",
      "5/5 [==============================] - 38s 8s/step - loss: 7.8266e-05 - accuracy: 1.0000 - val_loss: 1.7781 - val_accuracy: 0.7642\n",
      "Epoch 29/50\n",
      "5/5 [==============================] - 39s 8s/step - loss: 6.5569e-05 - accuracy: 1.0000 - val_loss: 1.7764 - val_accuracy: 0.7642\n",
      "Epoch 30/50\n",
      "5/5 [==============================] - 40s 8s/step - loss: 5.5339e-05 - accuracy: 1.0000 - val_loss: 1.7760 - val_accuracy: 0.7724\n",
      "Epoch 31/50\n",
      "5/5 [==============================] - 38s 8s/step - loss: 4.6425e-05 - accuracy: 1.0000 - val_loss: 1.7770 - val_accuracy: 0.7805\n",
      "Epoch 32/50\n",
      "5/5 [==============================] - 36s 7s/step - loss: 4.1583e-05 - accuracy: 1.0000 - val_loss: 1.7787 - val_accuracy: 0.7805\n",
      "Epoch 33/50\n",
      "5/5 [==============================] - 35s 7s/step - loss: 3.8257e-05 - accuracy: 1.0000 - val_loss: 1.7813 - val_accuracy: 0.7805\n",
      "Epoch 34/50\n",
      "5/5 [==============================] - 40s 8s/step - loss: 3.5327e-05 - accuracy: 1.0000 - val_loss: 1.7839 - val_accuracy: 0.7967\n",
      "Epoch 35/50\n",
      "5/5 [==============================] - 47s 10s/step - loss: 3.3022e-05 - accuracy: 1.0000 - val_loss: 1.7867 - val_accuracy: 0.7967\n",
      "Epoch 36/50\n",
      "5/5 [==============================] - 57s 11s/step - loss: 3.1376e-05 - accuracy: 1.0000 - val_loss: 1.7896 - val_accuracy: 0.7967\n",
      "Epoch 37/50\n",
      "5/5 [==============================] - 50s 10s/step - loss: 2.9678e-05 - accuracy: 1.0000 - val_loss: 1.7930 - val_accuracy: 0.7967\n",
      "Epoch 38/50\n",
      "5/5 [==============================] - 49s 10s/step - loss: 2.8305e-05 - accuracy: 1.0000 - val_loss: 1.7970 - val_accuracy: 0.7967\n",
      "Epoch 39/50\n",
      "5/5 [==============================] - 39s 8s/step - loss: 2.6820e-05 - accuracy: 1.0000 - val_loss: 1.8006 - val_accuracy: 0.7967\n",
      "Epoch 40/50\n",
      "5/5 [==============================] - 33s 7s/step - loss: 2.5795e-05 - accuracy: 1.0000 - val_loss: 1.8040 - val_accuracy: 0.7967\n",
      "Epoch 41/50\n",
      "5/5 [==============================] - 32s 6s/step - loss: 2.4834e-05 - accuracy: 1.0000 - val_loss: 1.8071 - val_accuracy: 0.7967\n",
      "Epoch 42/50\n",
      "5/5 [==============================] - 31s 6s/step - loss: 2.4073e-05 - accuracy: 1.0000 - val_loss: 1.8102 - val_accuracy: 0.7967\n",
      "Epoch 43/50\n",
      "5/5 [==============================] - 31s 6s/step - loss: 2.3357e-05 - accuracy: 1.0000 - val_loss: 1.8138 - val_accuracy: 0.7967\n",
      "Epoch 44/50\n",
      "5/5 [==============================] - 30s 6s/step - loss: 2.2690e-05 - accuracy: 1.0000 - val_loss: 1.8173 - val_accuracy: 0.7967\n",
      "Epoch 45/50\n",
      "5/5 [==============================] - 30s 6s/step - loss: 2.2087e-05 - accuracy: 1.0000 - val_loss: 1.8208 - val_accuracy: 0.7967\n",
      "Epoch 46/50\n",
      "5/5 [==============================] - 30s 6s/step - loss: 2.1475e-05 - accuracy: 1.0000 - val_loss: 1.8246 - val_accuracy: 0.7967\n",
      "Epoch 47/50\n",
      "5/5 [==============================] - 31s 6s/step - loss: 2.0924e-05 - accuracy: 1.0000 - val_loss: 1.8273 - val_accuracy: 0.7967\n",
      "Epoch 48/50\n",
      "5/5 [==============================] - 29s 6s/step - loss: 2.0369e-05 - accuracy: 1.0000 - val_loss: 1.8302 - val_accuracy: 0.7967\n",
      "Epoch 49/50\n",
      "5/5 [==============================] - 30s 6s/step - loss: 1.9835e-05 - accuracy: 1.0000 - val_loss: 1.8331 - val_accuracy: 0.7967\n",
      "Epoch 50/50\n",
      "5/5 [==============================] - 31s 6s/step - loss: 1.9232e-05 - accuracy: 1.0000 - val_loss: 1.8363 - val_accuracy: 0.7967\n"
     ]
    }
   ],
   "source": [
    "#step6: train the classifier with the train dataset\n",
    "\n",
    "classifier_history = CNN_Classifier.fit(tumor_train_image_array, #pass the train dataset images\n",
    "                                        tumor_train_lbl_array, #pass the train dataset labels\n",
    "                                        epochs = epoch_count, #pass the epoch count\n",
    "                                        validation_data = (tumor_test_image_array, tumor_test_lbl_array)) \n",
    "                                        #pass the test dataset for validation"
   ]
  },
  {
   "cell_type": "code",
   "execution_count": 23,
   "id": "2bd8d29d",
   "metadata": {},
   "outputs": [
    {
     "name": "stdout",
     "output_type": "stream",
     "text": [
      "4/4 [==============================] - 4s 925ms/step - loss: 1.8363 - accuracy: 0.7967\n",
      "Test loss: 1.8363\n",
      "Test accuracy: 0.7967\n"
     ]
    }
   ],
   "source": [
    "#step7: calculate the test accuracy and loss\n",
    "\n",
    "loss, accuracy = CNN_Classifier.evaluate(tumor_test_image_array, tumor_test_lbl_array) \n",
    "#calculate the accuracy by evaluating the model\n",
    "print('Test loss: {:.4f}'.format(loss))#print the test loss\n",
    "print('Test accuracy: {:.4f}'.format(accuracy))#print the test accuracy"
   ]
  },
  {
   "cell_type": "code",
   "execution_count": 24,
   "id": "268f48a1",
   "metadata": {},
   "outputs": [
    {
     "name": "stdout",
     "output_type": "stream",
     "text": [
      "4/4 [==============================] - 6s 1s/step\n"
     ]
    }
   ],
   "source": [
    "#step8: predict the tumor using the trained model\n",
    "\n",
    "brain_tumor_predicted = CNN_Classifier.predict(tumor_test_image_array) #pass the test dataset to predict function"
   ]
  },
  {
   "cell_type": "code",
   "execution_count": 31,
   "id": "6cf8952f",
   "metadata": {},
   "outputs": [],
   "source": [
    "brain_tumor_predicted = npy_arrays.round(brain_tumor_predicted) \n",
    "#round the predicted values to the nearest binary values"
   ]
  },
  {
   "cell_type": "code",
   "execution_count": 32,
   "id": "1c120573",
   "metadata": {},
   "outputs": [
    {
     "name": "stdout",
     "output_type": "stream",
     "text": [
      "Accuracy of the deep learning classifier: 0.7967479674796748\n"
     ]
    }
   ],
   "source": [
    "#step9: calculate the metrics for the trained model\n",
    "\n",
    "print(\"Accuracy of the deep learning classifier: \"+ \n",
    "      str(sk_metrics.accuracy_score(tumor_test_lbl_array,brain_tumor_predicted))) #print the accuracy"
   ]
  },
  {
   "cell_type": "code",
   "execution_count": 33,
   "id": "dfa61ea3",
   "metadata": {},
   "outputs": [
    {
     "name": "stdout",
     "output_type": "stream",
     "text": [
      "Precision of the deep learning classifier: 0.8378378378378378\n"
     ]
    }
   ],
   "source": [
    "print(\"Precision of the deep learning classifier: \"+ \n",
    "      str(sk_metrics.precision_score(tumor_test_lbl_array,brain_tumor_predicted))) #print the precision"
   ]
  },
  {
   "cell_type": "code",
   "execution_count": 35,
   "id": "4b99f542",
   "metadata": {},
   "outputs": [
    {
     "name": "stdout",
     "output_type": "stream",
     "text": [
      "Recall Score of the deep learning classifier: 0.8266666666666667\n"
     ]
    }
   ],
   "source": [
    "print(\"Recall Score of the deep learning classifier: \"+ \n",
    "      str(sk_metrics.recall_score(tumor_test_lbl_array,brain_tumor_predicted))) #print the recall score"
   ]
  },
  {
   "cell_type": "code",
   "execution_count": 36,
   "id": "1fd30dc0",
   "metadata": {},
   "outputs": [
    {
     "name": "stdout",
     "output_type": "stream",
     "text": [
      "F1 score of the deep learning classifier: 0.8322147651006713\n"
     ]
    }
   ],
   "source": [
    "print(\"F1 score of the deep learning classifier: \"+ \n",
    "      str(sk_metrics.f1_score(tumor_test_lbl_array,brain_tumor_predicted))) #print the f1 score"
   ]
  },
  {
   "cell_type": "markdown",
   "id": "11b9c91b",
   "metadata": {},
   "source": [
    "I have considered a convolutional neural network model as a deep learning classifier because CNN's are designed to handle image data and can learn features from images effectively. The CNN models have multiple layers which include convolutional layers that use a set of filters on the imput images to learn the local patterns and features. The advantage of using CNN model is that it has a hierarchial structure of layers that allows the model to learn increasingly complex representations of images. The convolutional layers learn local patterns and features while the fully connected layers learn global representation of images based on the local patterns derived by the convolutional layers. Hence, CNN models are highly effective in capturing both high and low level features of the images. CNN also have the ability to learn from the trained data using back propagation. So, I believe opting CNN model as a deep learning classifier for binary image classification is the best choice as it is evident that CNNs are best suitable for binary image classification."
   ]
  },
  {
   "cell_type": "markdown",
   "id": "e133d715",
   "metadata": {},
   "source": [
    "The metrics obtained after training a CNN deep learning classifier to detect MRI scan images with or without brain tumor are as belows:\n",
    "\n",
    "#### Accuracy: 79.67\n",
    "#### Precision: 0.837\n",
    "#### Recall Score: 0.826\n",
    "#### F1 Score: 0.832"
   ]
  },
  {
   "cell_type": "markdown",
   "id": "868aadb2",
   "metadata": {},
   "source": [
    "#### Traditional Machine Learning models\n"
   ]
  },
  {
   "cell_type": "markdown",
   "id": "d356ea61",
   "metadata": {},
   "source": [
    "##### Logistic Regression"
   ]
  },
  {
   "cell_type": "code",
   "execution_count": 40,
   "id": "adea088f",
   "metadata": {},
   "outputs": [],
   "source": [
    "#step1: change the shape of image arrays to 1D\n",
    "Log_Reg_Train = tumor_train_image_array.reshape(tumor_train_image_array.shape[0],-1) #reshape the train images to 1D\n",
    "Log_Reg_Test = tumor_test_image_array.reshape(tumor_test_image_array.shape[0],-1) #reshape the test images to 1D"
   ]
  },
  {
   "cell_type": "code",
   "execution_count": 45,
   "id": "7b08957a",
   "metadata": {},
   "outputs": [],
   "source": [
    "#step2: create a logistic regression model\n",
    "\n",
    "Log_Reg_Model = lin_mdl.LogisticRegression(max_iter=10000) #initialize the model"
   ]
  },
  {
   "cell_type": "code",
   "execution_count": 46,
   "id": "c4954a36",
   "metadata": {},
   "outputs": [
    {
     "data": {
      "text/html": [
       "<style>#sk-container-id-3 {color: black;background-color: white;}#sk-container-id-3 pre{padding: 0;}#sk-container-id-3 div.sk-toggleable {background-color: white;}#sk-container-id-3 label.sk-toggleable__label {cursor: pointer;display: block;width: 100%;margin-bottom: 0;padding: 0.3em;box-sizing: border-box;text-align: center;}#sk-container-id-3 label.sk-toggleable__label-arrow:before {content: \"▸\";float: left;margin-right: 0.25em;color: #696969;}#sk-container-id-3 label.sk-toggleable__label-arrow:hover:before {color: black;}#sk-container-id-3 div.sk-estimator:hover label.sk-toggleable__label-arrow:before {color: black;}#sk-container-id-3 div.sk-toggleable__content {max-height: 0;max-width: 0;overflow: hidden;text-align: left;background-color: #f0f8ff;}#sk-container-id-3 div.sk-toggleable__content pre {margin: 0.2em;color: black;border-radius: 0.25em;background-color: #f0f8ff;}#sk-container-id-3 input.sk-toggleable__control:checked~div.sk-toggleable__content {max-height: 200px;max-width: 100%;overflow: auto;}#sk-container-id-3 input.sk-toggleable__control:checked~label.sk-toggleable__label-arrow:before {content: \"▾\";}#sk-container-id-3 div.sk-estimator input.sk-toggleable__control:checked~label.sk-toggleable__label {background-color: #d4ebff;}#sk-container-id-3 div.sk-label input.sk-toggleable__control:checked~label.sk-toggleable__label {background-color: #d4ebff;}#sk-container-id-3 input.sk-hidden--visually {border: 0;clip: rect(1px 1px 1px 1px);clip: rect(1px, 1px, 1px, 1px);height: 1px;margin: -1px;overflow: hidden;padding: 0;position: absolute;width: 1px;}#sk-container-id-3 div.sk-estimator {font-family: monospace;background-color: #f0f8ff;border: 1px dotted black;border-radius: 0.25em;box-sizing: border-box;margin-bottom: 0.5em;}#sk-container-id-3 div.sk-estimator:hover {background-color: #d4ebff;}#sk-container-id-3 div.sk-parallel-item::after {content: \"\";width: 100%;border-bottom: 1px solid gray;flex-grow: 1;}#sk-container-id-3 div.sk-label:hover label.sk-toggleable__label {background-color: #d4ebff;}#sk-container-id-3 div.sk-serial::before {content: \"\";position: absolute;border-left: 1px solid gray;box-sizing: border-box;top: 0;bottom: 0;left: 50%;z-index: 0;}#sk-container-id-3 div.sk-serial {display: flex;flex-direction: column;align-items: center;background-color: white;padding-right: 0.2em;padding-left: 0.2em;position: relative;}#sk-container-id-3 div.sk-item {position: relative;z-index: 1;}#sk-container-id-3 div.sk-parallel {display: flex;align-items: stretch;justify-content: center;background-color: white;position: relative;}#sk-container-id-3 div.sk-item::before, #sk-container-id-3 div.sk-parallel-item::before {content: \"\";position: absolute;border-left: 1px solid gray;box-sizing: border-box;top: 0;bottom: 0;left: 50%;z-index: -1;}#sk-container-id-3 div.sk-parallel-item {display: flex;flex-direction: column;z-index: 1;position: relative;background-color: white;}#sk-container-id-3 div.sk-parallel-item:first-child::after {align-self: flex-end;width: 50%;}#sk-container-id-3 div.sk-parallel-item:last-child::after {align-self: flex-start;width: 50%;}#sk-container-id-3 div.sk-parallel-item:only-child::after {width: 0;}#sk-container-id-3 div.sk-dashed-wrapped {border: 1px dashed gray;margin: 0 0.4em 0.5em 0.4em;box-sizing: border-box;padding-bottom: 0.4em;background-color: white;}#sk-container-id-3 div.sk-label label {font-family: monospace;font-weight: bold;display: inline-block;line-height: 1.2em;}#sk-container-id-3 div.sk-label-container {text-align: center;}#sk-container-id-3 div.sk-container {/* jupyter's `normalize.less` sets `[hidden] { display: none; }` but bootstrap.min.css set `[hidden] { display: none !important; }` so we also need the `!important` here to be able to override the default hidden behavior on the sphinx rendered scikit-learn.org. See: https://github.com/scikit-learn/scikit-learn/issues/21755 */display: inline-block !important;position: relative;}#sk-container-id-3 div.sk-text-repr-fallback {display: none;}</style><div id=\"sk-container-id-3\" class=\"sk-top-container\"><div class=\"sk-text-repr-fallback\"><pre>LogisticRegression(max_iter=10000)</pre><b>In a Jupyter environment, please rerun this cell to show the HTML representation or trust the notebook. <br />On GitHub, the HTML representation is unable to render, please try loading this page with nbviewer.org.</b></div><div class=\"sk-container\" hidden><div class=\"sk-item\"><div class=\"sk-estimator sk-toggleable\"><input class=\"sk-toggleable__control sk-hidden--visually\" id=\"sk-estimator-id-3\" type=\"checkbox\" checked><label for=\"sk-estimator-id-3\" class=\"sk-toggleable__label sk-toggleable__label-arrow\">LogisticRegression</label><div class=\"sk-toggleable__content\"><pre>LogisticRegression(max_iter=10000)</pre></div></div></div></div></div>"
      ],
      "text/plain": [
       "LogisticRegression(max_iter=10000)"
      ]
     },
     "execution_count": 46,
     "metadata": {},
     "output_type": "execute_result"
    }
   ],
   "source": [
    "#step3: train the Logicstic regression model\n",
    "\n",
    "Log_Reg_Model.fit(Log_Reg_Train, tumor_train_lbl_array.ravel()) #fit the model with train data"
   ]
  },
  {
   "cell_type": "code",
   "execution_count": 48,
   "id": "559df51b",
   "metadata": {},
   "outputs": [],
   "source": [
    "#step4: predict the classification for test dataset using Logistic regression\n",
    "\n",
    "Log_Reg_Predictions = Log_Reg_Model.predict(Log_Reg_Test) #pass the test dataset to predict"
   ]
  },
  {
   "cell_type": "code",
   "execution_count": 67,
   "id": "5229d582",
   "metadata": {},
   "outputs": [
    {
     "name": "stdout",
     "output_type": "stream",
     "text": [
      "Accuracy of Logistic Regression model is: 0.7479674796747967\n"
     ]
    }
   ],
   "source": [
    "#step5: calculate the metrics for the trained model\n",
    "\n",
    "print(\"Accuracy of Logistic Regression model is: \"+ \n",
    "      str(sk_metrics.accuracy_score(tumor_test_lbl_array,Log_Reg_Predictions))) #print the accuracy"
   ]
  },
  {
   "cell_type": "code",
   "execution_count": 68,
   "id": "effbcd04",
   "metadata": {},
   "outputs": [
    {
     "name": "stdout",
     "output_type": "stream",
     "text": [
      "Precision of Logistic Regression model is: 0.8142857142857143\n"
     ]
    }
   ],
   "source": [
    "print(\"Precision of Logistic Regression model is: \"+ \n",
    "      str(sk_metrics.precision_score(tumor_test_lbl_array,Log_Reg_Predictions))) #print the precision"
   ]
  },
  {
   "cell_type": "code",
   "execution_count": 51,
   "id": "eb3f764c",
   "metadata": {},
   "outputs": [
    {
     "name": "stdout",
     "output_type": "stream",
     "text": [
      "Recall Score of Logistic Regression model is: 0.76\n"
     ]
    }
   ],
   "source": [
    "print(\"Recall Score of Logistic Regression model is: \"+ \n",
    "      str(sk_metrics.recall_score(tumor_test_lbl_array,Log_Reg_Predictions))) #print the recall score"
   ]
  },
  {
   "cell_type": "code",
   "execution_count": 52,
   "id": "c43df91f",
   "metadata": {},
   "outputs": [
    {
     "name": "stdout",
     "output_type": "stream",
     "text": [
      "F1 score of Logistic Regression model is: 0.7862068965517242\n"
     ]
    }
   ],
   "source": [
    "print(\"F1 score of Logistic Regression model is: \"+ \n",
    "      str(sk_metrics.f1_score(tumor_test_lbl_array,Log_Reg_Predictions))) #print the f1 score"
   ]
  },
  {
   "cell_type": "markdown",
   "id": "49e14d97",
   "metadata": {},
   "source": [
    "The metrics obtained after training a Logistic Regression model to detect MRI scan images with or without brain tumor are as belows:\n",
    "\n",
    "#### Accuracy: 74.79\n",
    "#### Precision: 0.814\n",
    "#### Recall Score: 0.76\n",
    "#### F1 Score: 0.7862"
   ]
  },
  {
   "cell_type": "markdown",
   "id": "8b28aeae",
   "metadata": {},
   "source": [
    "##### Support Vector Machine (SVM)"
   ]
  },
  {
   "cell_type": "code",
   "execution_count": 58,
   "id": "fe5cc920",
   "metadata": {},
   "outputs": [],
   "source": [
    "#step1: change the shape of image arrays to 1D\n",
    "\n",
    "SVM_Train = tumor_train_image_array.reshape(tumor_train_image_array.shape[0],-1) #reshape the train images to 1D\n",
    "SVM_Test = tumor_test_image_array.reshape(tumor_test_image_array.shape[0],-1) #reshape the test images to 1D"
   ]
  },
  {
   "cell_type": "code",
   "execution_count": 59,
   "id": "2f8223ac",
   "metadata": {},
   "outputs": [],
   "source": [
    "#step2: initialize a SVM classifier to preprocess the data\n",
    "\n",
    "SVM_Model = Pipe_Ln([(\"scaler\", Pre_Process.StandardScaler()),(\"linear_svc\", SVM.LinearSVC(C=1, loss=\"hinge\"))])\n",
    "#initialize a SVM model using pipeline and StandardScaler"
   ]
  },
  {
   "cell_type": "code",
   "execution_count": 61,
   "id": "08bca62f",
   "metadata": {},
   "outputs": [
    {
     "data": {
      "text/html": [
       "<style>#sk-container-id-5 {color: black;background-color: white;}#sk-container-id-5 pre{padding: 0;}#sk-container-id-5 div.sk-toggleable {background-color: white;}#sk-container-id-5 label.sk-toggleable__label {cursor: pointer;display: block;width: 100%;margin-bottom: 0;padding: 0.3em;box-sizing: border-box;text-align: center;}#sk-container-id-5 label.sk-toggleable__label-arrow:before {content: \"▸\";float: left;margin-right: 0.25em;color: #696969;}#sk-container-id-5 label.sk-toggleable__label-arrow:hover:before {color: black;}#sk-container-id-5 div.sk-estimator:hover label.sk-toggleable__label-arrow:before {color: black;}#sk-container-id-5 div.sk-toggleable__content {max-height: 0;max-width: 0;overflow: hidden;text-align: left;background-color: #f0f8ff;}#sk-container-id-5 div.sk-toggleable__content pre {margin: 0.2em;color: black;border-radius: 0.25em;background-color: #f0f8ff;}#sk-container-id-5 input.sk-toggleable__control:checked~div.sk-toggleable__content {max-height: 200px;max-width: 100%;overflow: auto;}#sk-container-id-5 input.sk-toggleable__control:checked~label.sk-toggleable__label-arrow:before {content: \"▾\";}#sk-container-id-5 div.sk-estimator input.sk-toggleable__control:checked~label.sk-toggleable__label {background-color: #d4ebff;}#sk-container-id-5 div.sk-label input.sk-toggleable__control:checked~label.sk-toggleable__label {background-color: #d4ebff;}#sk-container-id-5 input.sk-hidden--visually {border: 0;clip: rect(1px 1px 1px 1px);clip: rect(1px, 1px, 1px, 1px);height: 1px;margin: -1px;overflow: hidden;padding: 0;position: absolute;width: 1px;}#sk-container-id-5 div.sk-estimator {font-family: monospace;background-color: #f0f8ff;border: 1px dotted black;border-radius: 0.25em;box-sizing: border-box;margin-bottom: 0.5em;}#sk-container-id-5 div.sk-estimator:hover {background-color: #d4ebff;}#sk-container-id-5 div.sk-parallel-item::after {content: \"\";width: 100%;border-bottom: 1px solid gray;flex-grow: 1;}#sk-container-id-5 div.sk-label:hover label.sk-toggleable__label {background-color: #d4ebff;}#sk-container-id-5 div.sk-serial::before {content: \"\";position: absolute;border-left: 1px solid gray;box-sizing: border-box;top: 0;bottom: 0;left: 50%;z-index: 0;}#sk-container-id-5 div.sk-serial {display: flex;flex-direction: column;align-items: center;background-color: white;padding-right: 0.2em;padding-left: 0.2em;position: relative;}#sk-container-id-5 div.sk-item {position: relative;z-index: 1;}#sk-container-id-5 div.sk-parallel {display: flex;align-items: stretch;justify-content: center;background-color: white;position: relative;}#sk-container-id-5 div.sk-item::before, #sk-container-id-5 div.sk-parallel-item::before {content: \"\";position: absolute;border-left: 1px solid gray;box-sizing: border-box;top: 0;bottom: 0;left: 50%;z-index: -1;}#sk-container-id-5 div.sk-parallel-item {display: flex;flex-direction: column;z-index: 1;position: relative;background-color: white;}#sk-container-id-5 div.sk-parallel-item:first-child::after {align-self: flex-end;width: 50%;}#sk-container-id-5 div.sk-parallel-item:last-child::after {align-self: flex-start;width: 50%;}#sk-container-id-5 div.sk-parallel-item:only-child::after {width: 0;}#sk-container-id-5 div.sk-dashed-wrapped {border: 1px dashed gray;margin: 0 0.4em 0.5em 0.4em;box-sizing: border-box;padding-bottom: 0.4em;background-color: white;}#sk-container-id-5 div.sk-label label {font-family: monospace;font-weight: bold;display: inline-block;line-height: 1.2em;}#sk-container-id-5 div.sk-label-container {text-align: center;}#sk-container-id-5 div.sk-container {/* jupyter's `normalize.less` sets `[hidden] { display: none; }` but bootstrap.min.css set `[hidden] { display: none !important; }` so we also need the `!important` here to be able to override the default hidden behavior on the sphinx rendered scikit-learn.org. See: https://github.com/scikit-learn/scikit-learn/issues/21755 */display: inline-block !important;position: relative;}#sk-container-id-5 div.sk-text-repr-fallback {display: none;}</style><div id=\"sk-container-id-5\" class=\"sk-top-container\"><div class=\"sk-text-repr-fallback\"><pre>Pipeline(steps=[(&#x27;scaler&#x27;, StandardScaler()),\n",
       "                (&#x27;linear_svc&#x27;, LinearSVC(C=1, loss=&#x27;hinge&#x27;))])</pre><b>In a Jupyter environment, please rerun this cell to show the HTML representation or trust the notebook. <br />On GitHub, the HTML representation is unable to render, please try loading this page with nbviewer.org.</b></div><div class=\"sk-container\" hidden><div class=\"sk-item sk-dashed-wrapped\"><div class=\"sk-label-container\"><div class=\"sk-label sk-toggleable\"><input class=\"sk-toggleable__control sk-hidden--visually\" id=\"sk-estimator-id-7\" type=\"checkbox\" ><label for=\"sk-estimator-id-7\" class=\"sk-toggleable__label sk-toggleable__label-arrow\">Pipeline</label><div class=\"sk-toggleable__content\"><pre>Pipeline(steps=[(&#x27;scaler&#x27;, StandardScaler()),\n",
       "                (&#x27;linear_svc&#x27;, LinearSVC(C=1, loss=&#x27;hinge&#x27;))])</pre></div></div></div><div class=\"sk-serial\"><div class=\"sk-item\"><div class=\"sk-estimator sk-toggleable\"><input class=\"sk-toggleable__control sk-hidden--visually\" id=\"sk-estimator-id-8\" type=\"checkbox\" ><label for=\"sk-estimator-id-8\" class=\"sk-toggleable__label sk-toggleable__label-arrow\">StandardScaler</label><div class=\"sk-toggleable__content\"><pre>StandardScaler()</pre></div></div></div><div class=\"sk-item\"><div class=\"sk-estimator sk-toggleable\"><input class=\"sk-toggleable__control sk-hidden--visually\" id=\"sk-estimator-id-9\" type=\"checkbox\" ><label for=\"sk-estimator-id-9\" class=\"sk-toggleable__label sk-toggleable__label-arrow\">LinearSVC</label><div class=\"sk-toggleable__content\"><pre>LinearSVC(C=1, loss=&#x27;hinge&#x27;)</pre></div></div></div></div></div></div></div>"
      ],
      "text/plain": [
       "Pipeline(steps=[('scaler', StandardScaler()),\n",
       "                ('linear_svc', LinearSVC(C=1, loss='hinge'))])"
      ]
     },
     "execution_count": 61,
     "metadata": {},
     "output_type": "execute_result"
    }
   ],
   "source": [
    "#step3: train the SVM model\n",
    "\n",
    "SVM_Model.fit(SVM_Train, tumor_train_lbl_array.ravel()) #send the train dataset to the SVM model"
   ]
  },
  {
   "cell_type": "code",
   "execution_count": 62,
   "id": "8f34577f",
   "metadata": {},
   "outputs": [],
   "source": [
    "#step4: predict the classification for test dataset using SVM\n",
    "\n",
    "SVM_Model_Prediction = SVM_Model.predict(SVM_Test) #pass the test dataset for prediction"
   ]
  },
  {
   "cell_type": "code",
   "execution_count": 63,
   "id": "f413e128",
   "metadata": {},
   "outputs": [
    {
     "name": "stdout",
     "output_type": "stream",
     "text": [
      "Accuracy of SVM model is: 0.7398373983739838\n"
     ]
    }
   ],
   "source": [
    "#step5: calculate the metrics for the trained model\n",
    "\n",
    "print(\"Accuracy of SVM model is: \"+ \n",
    "      str(sk_metrics.accuracy_score(tumor_test_lbl_array,SVM_Model_Prediction))) #print the accuracy"
   ]
  },
  {
   "cell_type": "code",
   "execution_count": 64,
   "id": "bf43a9ea",
   "metadata": {},
   "outputs": [
    {
     "name": "stdout",
     "output_type": "stream",
     "text": [
      "Precision of SVM model is: 0.8208955223880597\n"
     ]
    }
   ],
   "source": [
    "print(\"Precision of SVM model is: \"+ \n",
    "      str(sk_metrics.precision_score(tumor_test_lbl_array,SVM_Model_Prediction))) #print the precision"
   ]
  },
  {
   "cell_type": "code",
   "execution_count": 65,
   "id": "b3a48ee4",
   "metadata": {},
   "outputs": [
    {
     "name": "stdout",
     "output_type": "stream",
     "text": [
      "Recall Score of SVM model is: 0.7333333333333333\n"
     ]
    }
   ],
   "source": [
    "print(\"Recall Score of SVM model is: \"+ \n",
    "      str(sk_metrics.recall_score(tumor_test_lbl_array,SVM_Model_Prediction))) #print the recall score"
   ]
  },
  {
   "cell_type": "code",
   "execution_count": 66,
   "id": "8cbcac15",
   "metadata": {},
   "outputs": [
    {
     "name": "stdout",
     "output_type": "stream",
     "text": [
      "F1 score of SVM model is: 0.7746478873239437\n"
     ]
    }
   ],
   "source": [
    "print(\"F1 score of SVM model is: \"+ \n",
    "      str(sk_metrics.f1_score(tumor_test_lbl_array,SVM_Model_Prediction))) #print the f1 score"
   ]
  },
  {
   "cell_type": "markdown",
   "id": "410f0982",
   "metadata": {},
   "source": [
    "The metrics obtained after training a SVM model to detect MRI scan images with or without brain tumor are as belows:\n",
    "\n",
    "#### Accuracy: 73.98\n",
    "#### Precision: 0.820\n",
    "#### Recall Score: 0.733\n",
    "#### F1 Score: 0.774"
   ]
  },
  {
   "cell_type": "markdown",
   "id": "2019a15c",
   "metadata": {},
   "source": [
    "##### Ridge Regression"
   ]
  },
  {
   "cell_type": "code",
   "execution_count": 69,
   "id": "f69bc0fa",
   "metadata": {},
   "outputs": [],
   "source": [
    "#step1: change the shape of image arrays to 1D\n",
    "Rid_Reg_Train = tumor_train_image_array.reshape(tumor_train_image_array.shape[0],-1) #reshape the train images to 1D\n",
    "Rid_Reg_Test = tumor_test_image_array.reshape(tumor_test_image_array.shape[0],-1) #reshape the test images to 1D"
   ]
  },
  {
   "cell_type": "code",
   "execution_count": 70,
   "id": "da9d51b5",
   "metadata": {},
   "outputs": [],
   "source": [
    "#step2: create a Ridge regression model\n",
    "\n",
    "Rid_Reg_Model = lin_mdl.Ridge(alpha=1) #initialize the model"
   ]
  },
  {
   "cell_type": "code",
   "execution_count": 71,
   "id": "dedc5c9c",
   "metadata": {},
   "outputs": [
    {
     "data": {
      "text/html": [
       "<style>#sk-container-id-6 {color: black;background-color: white;}#sk-container-id-6 pre{padding: 0;}#sk-container-id-6 div.sk-toggleable {background-color: white;}#sk-container-id-6 label.sk-toggleable__label {cursor: pointer;display: block;width: 100%;margin-bottom: 0;padding: 0.3em;box-sizing: border-box;text-align: center;}#sk-container-id-6 label.sk-toggleable__label-arrow:before {content: \"▸\";float: left;margin-right: 0.25em;color: #696969;}#sk-container-id-6 label.sk-toggleable__label-arrow:hover:before {color: black;}#sk-container-id-6 div.sk-estimator:hover label.sk-toggleable__label-arrow:before {color: black;}#sk-container-id-6 div.sk-toggleable__content {max-height: 0;max-width: 0;overflow: hidden;text-align: left;background-color: #f0f8ff;}#sk-container-id-6 div.sk-toggleable__content pre {margin: 0.2em;color: black;border-radius: 0.25em;background-color: #f0f8ff;}#sk-container-id-6 input.sk-toggleable__control:checked~div.sk-toggleable__content {max-height: 200px;max-width: 100%;overflow: auto;}#sk-container-id-6 input.sk-toggleable__control:checked~label.sk-toggleable__label-arrow:before {content: \"▾\";}#sk-container-id-6 div.sk-estimator input.sk-toggleable__control:checked~label.sk-toggleable__label {background-color: #d4ebff;}#sk-container-id-6 div.sk-label input.sk-toggleable__control:checked~label.sk-toggleable__label {background-color: #d4ebff;}#sk-container-id-6 input.sk-hidden--visually {border: 0;clip: rect(1px 1px 1px 1px);clip: rect(1px, 1px, 1px, 1px);height: 1px;margin: -1px;overflow: hidden;padding: 0;position: absolute;width: 1px;}#sk-container-id-6 div.sk-estimator {font-family: monospace;background-color: #f0f8ff;border: 1px dotted black;border-radius: 0.25em;box-sizing: border-box;margin-bottom: 0.5em;}#sk-container-id-6 div.sk-estimator:hover {background-color: #d4ebff;}#sk-container-id-6 div.sk-parallel-item::after {content: \"\";width: 100%;border-bottom: 1px solid gray;flex-grow: 1;}#sk-container-id-6 div.sk-label:hover label.sk-toggleable__label {background-color: #d4ebff;}#sk-container-id-6 div.sk-serial::before {content: \"\";position: absolute;border-left: 1px solid gray;box-sizing: border-box;top: 0;bottom: 0;left: 50%;z-index: 0;}#sk-container-id-6 div.sk-serial {display: flex;flex-direction: column;align-items: center;background-color: white;padding-right: 0.2em;padding-left: 0.2em;position: relative;}#sk-container-id-6 div.sk-item {position: relative;z-index: 1;}#sk-container-id-6 div.sk-parallel {display: flex;align-items: stretch;justify-content: center;background-color: white;position: relative;}#sk-container-id-6 div.sk-item::before, #sk-container-id-6 div.sk-parallel-item::before {content: \"\";position: absolute;border-left: 1px solid gray;box-sizing: border-box;top: 0;bottom: 0;left: 50%;z-index: -1;}#sk-container-id-6 div.sk-parallel-item {display: flex;flex-direction: column;z-index: 1;position: relative;background-color: white;}#sk-container-id-6 div.sk-parallel-item:first-child::after {align-self: flex-end;width: 50%;}#sk-container-id-6 div.sk-parallel-item:last-child::after {align-self: flex-start;width: 50%;}#sk-container-id-6 div.sk-parallel-item:only-child::after {width: 0;}#sk-container-id-6 div.sk-dashed-wrapped {border: 1px dashed gray;margin: 0 0.4em 0.5em 0.4em;box-sizing: border-box;padding-bottom: 0.4em;background-color: white;}#sk-container-id-6 div.sk-label label {font-family: monospace;font-weight: bold;display: inline-block;line-height: 1.2em;}#sk-container-id-6 div.sk-label-container {text-align: center;}#sk-container-id-6 div.sk-container {/* jupyter's `normalize.less` sets `[hidden] { display: none; }` but bootstrap.min.css set `[hidden] { display: none !important; }` so we also need the `!important` here to be able to override the default hidden behavior on the sphinx rendered scikit-learn.org. See: https://github.com/scikit-learn/scikit-learn/issues/21755 */display: inline-block !important;position: relative;}#sk-container-id-6 div.sk-text-repr-fallback {display: none;}</style><div id=\"sk-container-id-6\" class=\"sk-top-container\"><div class=\"sk-text-repr-fallback\"><pre>Ridge(alpha=1)</pre><b>In a Jupyter environment, please rerun this cell to show the HTML representation or trust the notebook. <br />On GitHub, the HTML representation is unable to render, please try loading this page with nbviewer.org.</b></div><div class=\"sk-container\" hidden><div class=\"sk-item\"><div class=\"sk-estimator sk-toggleable\"><input class=\"sk-toggleable__control sk-hidden--visually\" id=\"sk-estimator-id-10\" type=\"checkbox\" checked><label for=\"sk-estimator-id-10\" class=\"sk-toggleable__label sk-toggleable__label-arrow\">Ridge</label><div class=\"sk-toggleable__content\"><pre>Ridge(alpha=1)</pre></div></div></div></div></div>"
      ],
      "text/plain": [
       "Ridge(alpha=1)"
      ]
     },
     "execution_count": 71,
     "metadata": {},
     "output_type": "execute_result"
    }
   ],
   "source": [
    "#step3: train the Logicstic regression model\n",
    "\n",
    "Rid_Reg_Model.fit(Rid_Reg_Train, tumor_train_lbl_array.ravel()) #fit the model with train data"
   ]
  },
  {
   "cell_type": "code",
   "execution_count": 81,
   "id": "3653a6a2",
   "metadata": {},
   "outputs": [],
   "source": [
    "#step4: predict the classification for test dataset using Logistic regression\n",
    "\n",
    "Rid_Reg_Predictions = Rid_Reg_Model.predict(Rid_Reg_Test) #pass the test dataset to predict"
   ]
  },
  {
   "cell_type": "code",
   "execution_count": 82,
   "id": "0edd3e88",
   "metadata": {},
   "outputs": [],
   "source": [
    "Rid_Reg_Predictions = npy_arrays.round(Rid_Reg_Predictions) \n",
    "#round the predicted values to the nearest binary values"
   ]
  },
  {
   "cell_type": "code",
   "execution_count": 85,
   "id": "5dd26df4",
   "metadata": {},
   "outputs": [
    {
     "name": "stdout",
     "output_type": "stream",
     "text": [
      "Accuracy of Ridge Regression model is: 0.7073170731707317\n"
     ]
    }
   ],
   "source": [
    "#step5: calculate the metrics for the trained model\n",
    "\n",
    "print(\"Accuracy of Ridge Regression model is: \"+ \n",
    "      str(sk_metrics.accuracy_score(tumor_test_lbl_array,Rid_Reg_Predictions))) #print the accuracy"
   ]
  },
  {
   "cell_type": "code",
   "execution_count": 88,
   "id": "9eec02af",
   "metadata": {},
   "outputs": [
    {
     "name": "stdout",
     "output_type": "stream",
     "text": [
      "Precision of Ridge Regression model is: 0.7073170731707317\n"
     ]
    }
   ],
   "source": [
    "print(\"Precision of Ridge Regression model is: \"+ \n",
    "      str(sk_metrics.precision_score(tumor_test_lbl_array,Rid_Reg_Predictions, average='micro'))) \n",
    "#print the precision"
   ]
  },
  {
   "cell_type": "code",
   "execution_count": 89,
   "id": "2c7dd2c9",
   "metadata": {},
   "outputs": [
    {
     "name": "stdout",
     "output_type": "stream",
     "text": [
      "Recall Score of Ridge Regression model is: 0.7073170731707317\n"
     ]
    }
   ],
   "source": [
    "print(\"Recall Score of Ridge Regression model is: \"+ \n",
    "      str(sk_metrics.recall_score(tumor_test_lbl_array,Rid_Reg_Predictions, average='micro'))) \n",
    "#print the recall score"
   ]
  },
  {
   "cell_type": "code",
   "execution_count": 90,
   "id": "4ad0b052",
   "metadata": {},
   "outputs": [
    {
     "name": "stdout",
     "output_type": "stream",
     "text": [
      "F1 score of Ridge Regression model is: 0.7073170731707317\n"
     ]
    }
   ],
   "source": [
    "print(\"F1 score of Ridge Regression model is: \"+ \n",
    "      str(sk_metrics.f1_score(tumor_test_lbl_array,Rid_Reg_Predictions, average='micro'))) #print the f1 score"
   ]
  },
  {
   "cell_type": "markdown",
   "id": "baf2ccc2",
   "metadata": {},
   "source": [
    "The metrics obtained after training a Logistic Regression model to detect MRI scan images with or without brain tumor are as belows:\n",
    "\n",
    "#### Accuracy: 70.73\n",
    "#### Precision: 0.70\n",
    "#### Recall Score: 0.70\n",
    "#### F1 Score: 0.707"
   ]
  },
  {
   "cell_type": "markdown",
   "id": "a9c11ff3",
   "metadata": {},
   "source": [
    "##### Comparision of 4 Models"
   ]
  },
  {
   "cell_type": "code",
   "execution_count": 99,
   "id": "177823f3",
   "metadata": {},
   "outputs": [
    {
     "data": {
      "image/png": "[encoded data removed]",
      "text/plain": [
       "<Figure size 640x480 with 1 Axes>"
      ]
     },
     "metadata": {},
     "output_type": "display_data"
    }
   ],
   "source": [
    "#step1: plot a line graph to compare the accuracies of the models\n",
    "\n",
    "model_names = ['Ridge Regression', 'CNN', 'Logistic Regression', 'SVM'] #X labels for different models\n",
    "accuracies = [sk_metrics.accuracy_score(tumor_test_lbl_array,Rid_Reg_Predictions), #accuracy of Ridge regression\n",
    "              sk_metrics.accuracy_score(tumor_test_lbl_array,brain_tumor_predicted), #accuracy of CNN model\n",
    "              sk_metrics.accuracy_score(tumor_test_lbl_array,Log_Reg_Predictions),  #accuracy of Logistic regression\n",
    "              sk_metrics.accuracy_score(tumor_test_lbl_array,SVM_Model_Prediction)] #accuracy of SVM model\n",
    "\n",
    "# Create a bar plot of the accuracies\n",
    "matplotlib.pyplot.plot(model_names, accuracies, marker='o') # plot the line chart\n",
    "\n",
    "# Add labels and title to the plot\n",
    "matplotlib.pyplot.xlabel('Model') #x labels for the plot\n",
    "matplotlib.pyplot.ylabel('Accuracy') #y values for the plot\n",
    "matplotlib.pyplot.title('Accuracy Comparison of Four Models') #title of the plot\n",
    "\n",
    "# Show the plot\n",
    "matplotlib.pyplot.show() #show the graph"
   ]
  },
  {
   "cell_type": "markdown",
   "id": "7c77b0e1",
   "metadata": {},
   "source": [
    "On Comparision, it is evident that the accuracy obtained from the CNN model is high when compared to all other models that I used in this code because the CNN model uses multiple layers to learn the features of the images and learns them in hierarchial manner and uses backward propagation to predict the values which makes it more accurate."
   ]
  }
 ],
 "metadata": {
  "kernelspec": {
   "display_name": "Python 3 (ipykernel)",
   "language": "python",
   "name": "python3"
  },
  "language_info": {
   "codemirror_mode": {
    "name": "ipython",
    "version": 3
   },
   "file_extension": ".py",
   "mimetype": "text/x-python",
   "name": "python",
   "nbconvert_exporter": "python",
   "pygments_lexer": "ipython3",
   "version": "3.10.9"
  }
 },
 "nbformat": 4,
 "nbformat_minor": 5
}
